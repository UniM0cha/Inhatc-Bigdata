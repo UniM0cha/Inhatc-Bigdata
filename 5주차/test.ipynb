{
 "cells": [
  {
   "cell_type": "markdown",
   "metadata": {},
   "source": [
    "복소수 실습"
   ]
  },
  {
   "cell_type": "code",
   "execution_count": 70,
   "metadata": {},
   "outputs": [
    {
     "name": "stdout",
     "output_type": "stream",
     "text": [
      "1.0\n",
      "2.0\n",
      "(1-2j)\n",
      "2.23606797749979\n"
     ]
    }
   ],
   "source": [
    "a = 1+2j\n",
    "print(a.real)\n",
    "print(a.imag)\n",
    "print(a.conjugate())\n",
    "print(abs(a))\n"
   ]
  },
  {
   "cell_type": "markdown",
   "metadata": {},
   "source": [
    "연산자 실습"
   ]
  },
  {
   "cell_type": "code",
   "execution_count": 71,
   "metadata": {},
   "outputs": [
    {
     "name": "stdout",
     "output_type": "stream",
     "text": [
      "7\n",
      "-1\n",
      "12\n",
      "0.75\n"
     ]
    }
   ],
   "source": [
    "a = 3\n",
    "b = 4\n",
    "print(a+b)\n",
    "print(a-b)\n",
    "print(a*b)\n",
    "print(a/b)\n"
   ]
  },
  {
   "cell_type": "markdown",
   "metadata": {},
   "source": [
    "문자열 실습"
   ]
  },
  {
   "cell_type": "code",
   "execution_count": 72,
   "metadata": {},
   "outputs": [
    {
     "name": "stdout",
     "output_type": "stream",
     "text": [
      "Hello World!\n",
      "Hello World!\n",
      "Hello Wolrd!\n",
      "HelloWolrd!\n"
     ]
    }
   ],
   "source": [
    "s1 = 'Hello World!'\n",
    "print(s1)\n",
    "\n",
    "s2 = \"Hello World!\"\n",
    "print(s2)\n",
    "\n",
    "s3 = '''Hello Wolrd!'''\n",
    "print(s3)\n",
    "\n",
    "s4 = \"\"\"HelloWolrd!\"\"\"\n",
    "print(s4)"
   ]
  },
  {
   "cell_type": "markdown",
   "metadata": {},
   "source": [
    "문자열 변형 실습"
   ]
  },
  {
   "cell_type": "code",
   "execution_count": 73,
   "metadata": {},
   "outputs": [
    {
     "name": "stdout",
     "output_type": "stream",
     "text": [
      "PYTHON\n",
      "python\n",
      "Python is funny\n",
      "['Python', 'is', 'difficult']\n"
     ]
    }
   ],
   "source": [
    "a = \"Python\"\n",
    "print(a.upper())\n",
    "print(a.lower())\n",
    "\n",
    "a = \"Python is difficult\"\n",
    "print(a.replace(\"difficult\", \"funny\"))\n",
    "print(a.split())"
   ]
  },
  {
   "cell_type": "markdown",
   "metadata": {},
   "source": [
    "리스트 실습"
   ]
  },
  {
   "cell_type": "code",
   "execution_count": 74,
   "metadata": {},
   "outputs": [
    {
     "name": "stdout",
     "output_type": "stream",
     "text": [
      "[1, 2, 3, 5]\n",
      "['Life', 'is', 'short', 'too']\n",
      "3\n",
      "[99, 3, 4, 1, 9]\n"
     ]
    }
   ],
   "source": [
    "a = [1, 2, 3]\n",
    "b = ['Life', 'is', 'too', 'short']\n",
    "c = [1, 2, 'Life', 'is']\n",
    "d = [1, 2, [3, 4], ['Life', 'is']]\n",
    "\n",
    "a.append(5)\n",
    "print(a)\n",
    "\n",
    "b.sort()\n",
    "print(b)\n",
    "\n",
    "a = [3, 4, 1, 9]\n",
    "print(a.index(9))\n",
    "\n",
    "a.insert(0, 99)\n",
    "print(a)\n"
   ]
  },
  {
   "cell_type": "markdown",
   "metadata": {},
   "source": [
    "파일 실습"
   ]
  },
  {
   "cell_type": "code",
   "execution_count": 75,
   "metadata": {},
   "outputs": [],
   "source": [
    "f = open(\"/Users/solstice/Desktop/새파일.txt\", 'w')\n",
    "\n",
    "for i in range(1,6):\n",
    "  data = f\"{i}번째 줄입니다.\\n\"\n",
    "  f.write(data)\n",
    "f.close()\n",
    "\n",
    "f = open(\"/Users/solstice/Desktop/새파일.txt\", 'a')\n",
    "for i in range(6,11):\n",
    "  data = f\"{i}번째 줄 추가입니다.\\n\"\n",
    "  f.write(data)\n",
    "f.close()"
   ]
  }
 ],
 "metadata": {
  "interpreter": {
   "hash": "aa3dd84ef0f650d9d8b867844db5a915f08cb58b5d6dab20fc53865ee0283ae4"
  },
  "kernelspec": {
   "display_name": "Python 3.9.10 ('py39')",
   "language": "python",
   "name": "python3"
  },
  "language_info": {
   "codemirror_mode": {
    "name": "ipython",
    "version": 3
   },
   "file_extension": ".py",
   "mimetype": "text/x-python",
   "name": "python",
   "nbconvert_exporter": "python",
   "pygments_lexer": "ipython3",
   "version": "3.9.10"
  },
  "orig_nbformat": 4
 },
 "nbformat": 4,
 "nbformat_minor": 2
}
