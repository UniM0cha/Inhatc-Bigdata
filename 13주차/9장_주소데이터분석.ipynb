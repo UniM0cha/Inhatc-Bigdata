{
 "cells": [
  {
   "cell_type": "markdown",
   "metadata": {},
   "source": [
    "# 9장. 지리 정보 분석 (1) 주소데이터분석+맵"
   ]
  },
  {
   "cell_type": "code",
   "execution_count": 46,
   "metadata": {
    "scrolled": true
   },
   "outputs": [
    {
     "data": {
      "text/html": [
       "<div>\n",
       "<style scoped>\n",
       "    .dataframe tbody tr th:only-of-type {\n",
       "        vertical-align: middle;\n",
       "    }\n",
       "\n",
       "    .dataframe tbody tr th {\n",
       "        vertical-align: top;\n",
       "    }\n",
       "\n",
       "    .dataframe thead th {\n",
       "        text-align: right;\n",
       "    }\n",
       "</style>\n",
       "<table border=\"1\" class=\"dataframe\">\n",
       "  <thead>\n",
       "    <tr style=\"text-align: right;\">\n",
       "      <th></th>\n",
       "      <th>지점명</th>\n",
       "      <th>주소</th>\n",
       "      <th>위도</th>\n",
       "      <th>경도</th>\n",
       "    </tr>\n",
       "  </thead>\n",
       "  <tbody>\n",
       "    <tr>\n",
       "      <th>0</th>\n",
       "      <td>구로호텔</td>\n",
       "      <td>서울특별시 구로구 디지털로32길 72, 구로호텔 1층 (구로동)</td>\n",
       "      <td>37.483129</td>\n",
       "      <td>126.898859</td>\n",
       "    </tr>\n",
       "    <tr>\n",
       "      <th>1</th>\n",
       "      <td>구로디지털타워</td>\n",
       "      <td>서울특별시 구로구 디지털로32길 30 (구로동)</td>\n",
       "      <td>37.483432</td>\n",
       "      <td>126.896480</td>\n",
       "    </tr>\n",
       "    <tr>\n",
       "      <th>2</th>\n",
       "      <td>구로디지털로</td>\n",
       "      <td>서울특별시 구로구 디지털로33길 11, 에이스테크노8차 1층 (구로동)</td>\n",
       "      <td>37.485911</td>\n",
       "      <td>126.895587</td>\n",
       "    </tr>\n",
       "    <tr>\n",
       "      <th>3</th>\n",
       "      <td>구로에이스</td>\n",
       "      <td>서울특별시 구로구 디지털로 285, 에이스트윈타워1차 103호 (구로동)</td>\n",
       "      <td>37.484483</td>\n",
       "      <td>126.894496</td>\n",
       "    </tr>\n",
       "    <tr>\n",
       "      <th>4</th>\n",
       "      <td>구로하이엔드</td>\n",
       "      <td>서울특별시 구로구 디지털로26길 5, 에이스하이엔드타워1차 103호 (구로동)</td>\n",
       "      <td>37.481618</td>\n",
       "      <td>126.893136</td>\n",
       "    </tr>\n",
       "  </tbody>\n",
       "</table>\n",
       "</div>"
      ],
      "text/plain": [
       "       지점명                                           주소         위도          경도\n",
       "0     구로호텔          서울특별시 구로구 디지털로32길 72, 구로호텔 1층 (구로동)  37.483129  126.898859\n",
       "1  구로디지털타워                   서울특별시 구로구 디지털로32길 30 (구로동)  37.483432  126.896480\n",
       "2   구로디지털로      서울특별시 구로구 디지털로33길 11, 에이스테크노8차 1층 (구로동)  37.485911  126.895587\n",
       "3    구로에이스     서울특별시 구로구 디지털로 285, 에이스트윈타워1차 103호 (구로동)  37.484483  126.894496\n",
       "4   구로하이엔드  서울특별시 구로구 디지털로26길 5, 에이스하이엔드타워1차 103호 (구로동)  37.481618  126.893136"
      ]
     },
     "execution_count": 46,
     "metadata": {},
     "output_type": "execute_result"
    }
   ],
   "source": [
    "import pandas as pd\n",
    "\n",
    "CB = pd.read_csv('starbucks.csv', encoding='CP949', engine='python')\n",
    "\n",
    "CB.head()  #작업 내용 확인용 출력\n",
    "\n",
    "import folium\n",
    "\n",
    "map_CB = folium.Map(location=[37.560284, 126.975334], zoom_start = 15)\n",
    "for i, store in CB.iterrows():   \n",
    "    folium.Marker(location=[store['위도'], store['경도']], popup= store['지점명'], icon=folium.Icon(color='red', icon='star')).add_to(map_CB)\n",
    "map_CB.save('map_CB.html')"
   ]
  }
 ],
 "metadata": {
  "interpreter": {
   "hash": "e340a0a01ab186b377b016c01aa7d5d1230eddf285ffed81230a024c78a4da64"
  },
  "kernelspec": {
   "display_name": "Python 3.8.13 ('py38')",
   "language": "python",
   "name": "python3"
  },
  "language_info": {
   "codemirror_mode": {
    "name": "ipython",
    "version": 3
   },
   "file_extension": ".py",
   "mimetype": "text/x-python",
   "name": "python",
   "nbconvert_exporter": "python",
   "pygments_lexer": "ipython3",
   "version": "3.8.13"
  }
 },
 "nbformat": 4,
 "nbformat_minor": 2
}
